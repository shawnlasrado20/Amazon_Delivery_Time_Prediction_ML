{
 "cells": [
  {
   "metadata": {},
   "cell_type": "markdown",
   "source": [
    "# **Project Name**    - Amazon Delivery Time Prediction\n",
    "\n"
   ],
   "id": "82043155b50a53fd"
  },
  {
   "metadata": {},
   "cell_type": "markdown",
   "source": [
    "##### **Project Type**    - EDA\n",
    "##### **Contribution**    - Individual\n",
    "Name - Shawn Lasrado"
   ],
   "id": "cf688404a1d73af5"
  },
  {
   "metadata": {},
   "cell_type": "markdown",
   "source": "# **Project Summary -**",
   "id": "79c5c961366c2071"
  },
  {
   "metadata": {},
   "cell_type": "markdown",
   "source": [
    "This project focuses on building a machine learning system to predict Amazon delivery times accurately based on various order-related features. It involves comprehensive data preparation including handling missing values, encoding categorical variables with one-hot encoding, and selecting relevant features.\n",
    "\n",
    "Multiple regression models-\n",
    "Linear Regression, Random Forest, and Gradient Boosting were trained and evaluated using RMSE, MAE, and R-squared metrics, with Random Forest emerging as the best performer.\n",
    "\n",
    "Model evaluation and tracking were enhanced using MLflow for efficient experiment management. Finally, the best model was deployed within an interactive Streamlit web application, allowing users to input order details and receive predicted delivery times dynamically.\n",
    "\n",
    "The project demonstrates end-to-end ML workflow:\n",
    "from raw data cleaning to model development and deployment, emphasizing usability, and scalability for real-world logistics optimization."
   ],
   "id": "3072b401f6b22017"
  },
  {
   "metadata": {},
   "cell_type": "markdown",
   "source": "# **GitHub Link -**",
   "id": "7f59f3f664c570d0"
  },
  {
   "metadata": {},
   "cell_type": "markdown",
   "source": "https://github.com/shawnlasrado20/Amazon_Delivery_Time_Prediction_ML",
   "id": "f703464c665c37bd"
  },
  {
   "metadata": {},
   "cell_type": "markdown",
   "source": "# **Problem Statement**\n",
   "id": "b98f914693f970de"
  },
  {
   "metadata": {},
   "cell_type": "markdown",
   "source": "This project aims to predict delivery times for e-commerce orders based on a variety of factors such as product size, distance, traffic conditions, and shipping method. Using the provided dataset, learners will preprocess, analyze, and build regression models to accurately estimate delivery times. The final application will allow users to input relevant details and receive estimated delivery times via a user-friendly interface.\n",
   "id": "b692375472a91d9c"
  },
  {
   "cell_type": "code",
   "id": "initial_id",
   "metadata": {
    "collapsed": true,
    "ExecuteTime": {
     "end_time": "2025-10-05T07:08:03.199010Z",
     "start_time": "2025-10-05T07:08:03.010096Z"
    }
   },
   "source": [
    "import pandas as pd\n",
    "data = pd.read_csv(\"amazon_delivery.csv\")\n"
   ],
   "outputs": [],
   "execution_count": 13
  },
  {
   "metadata": {
    "ExecuteTime": {
     "end_time": "2025-10-05T07:08:03.252378Z",
     "start_time": "2025-10-05T07:08:03.233587Z"
    }
   },
   "cell_type": "code",
   "source": "data.head",
   "id": "e48ee62913aace7d",
   "outputs": [
    {
     "data": {
      "text/plain": [
       "<bound method NDFrame.head of             Order_ID  Agent_Age  Agent_Rating  Store_Latitude  \\\n",
       "0      ialx566343618         37           4.9       22.745049   \n",
       "1      akqg208421122         34           4.5       12.913041   \n",
       "2      njpu434582536         23           4.4       12.914264   \n",
       "3      rjto796129700         38           4.7       11.003669   \n",
       "4      zguw716275638         32           4.6       12.972793   \n",
       "...              ...        ...           ...             ...   \n",
       "43734  jlxf819993117         30           4.8       26.902328   \n",
       "43735  aevx342135787         21           4.6        0.000000   \n",
       "43736  xnek760674819         30           4.9       13.022394   \n",
       "43737  cynl434665991         20           4.7       11.001753   \n",
       "43738  nsyz997960170         23           4.9       23.351058   \n",
       "\n",
       "       Store_Longitude  Drop_Latitude  Drop_Longitude  Order_Date Order_Time  \\\n",
       "0            75.892471      22.765049       75.912471  2022-03-19   11:30:00   \n",
       "1            77.683237      13.043041       77.813237  2022-03-25   19:45:00   \n",
       "2            77.678400      12.924264       77.688400  2022-03-19   08:30:00   \n",
       "3            76.976494      11.053669       77.026494  2022-04-05   18:00:00   \n",
       "4            80.249982      13.012793       80.289982  2022-03-26   13:30:00   \n",
       "...                ...            ...             ...         ...        ...   \n",
       "43734        75.794257      26.912328       75.804257  2022-03-24   11:35:00   \n",
       "43735         0.000000       0.070000        0.070000  2022-02-16   19:55:00   \n",
       "43736        80.242439      13.052394       80.272439  2022-03-11   23:50:00   \n",
       "43737        76.986241      11.041753       77.026241  2022-03-07   13:35:00   \n",
       "43738        85.325731      23.431058       85.405731  2022-03-02   17:10:00   \n",
       "\n",
       "      Pickup_Time     Weather  Traffic      Vehicle            Area  \\\n",
       "0        11:45:00       Sunny    High   motorcycle           Urban    \n",
       "1        19:50:00      Stormy     Jam      scooter   Metropolitian    \n",
       "2        08:45:00  Sandstorms     Low   motorcycle           Urban    \n",
       "3        18:10:00       Sunny  Medium   motorcycle   Metropolitian    \n",
       "4        13:45:00      Cloudy    High      scooter   Metropolitian    \n",
       "...           ...         ...      ...          ...             ...   \n",
       "43734    11:45:00       Windy    High   motorcycle   Metropolitian    \n",
       "43735    20:10:00       Windy     Jam   motorcycle   Metropolitian    \n",
       "43736    00:05:00      Cloudy     Low      scooter   Metropolitian    \n",
       "43737    13:40:00      Cloudy    High   motorcycle   Metropolitian    \n",
       "43738    17:15:00         Fog  Medium      scooter   Metropolitian    \n",
       "\n",
       "       Delivery_Time     Category  \n",
       "0                120     Clothing  \n",
       "1                165  Electronics  \n",
       "2                130       Sports  \n",
       "3                105    Cosmetics  \n",
       "4                150         Toys  \n",
       "...              ...          ...  \n",
       "43734            160         Home  \n",
       "43735            180      Jewelry  \n",
       "43736             80         Home  \n",
       "43737            130      Kitchen  \n",
       "43738            180    Cosmetics  \n",
       "\n",
       "[43739 rows x 16 columns]>"
      ]
     },
     "execution_count": 14,
     "metadata": {},
     "output_type": "execute_result"
    }
   ],
   "execution_count": 14
  },
  {
   "metadata": {
    "ExecuteTime": {
     "end_time": "2025-10-05T07:08:03.296678Z",
     "start_time": "2025-10-05T07:08:03.286294Z"
    }
   },
   "cell_type": "code",
   "source": "data.info",
   "id": "f7bf7572b4bb7260",
   "outputs": [
    {
     "data": {
      "text/plain": [
       "<bound method DataFrame.info of             Order_ID  Agent_Age  Agent_Rating  Store_Latitude  \\\n",
       "0      ialx566343618         37           4.9       22.745049   \n",
       "1      akqg208421122         34           4.5       12.913041   \n",
       "2      njpu434582536         23           4.4       12.914264   \n",
       "3      rjto796129700         38           4.7       11.003669   \n",
       "4      zguw716275638         32           4.6       12.972793   \n",
       "...              ...        ...           ...             ...   \n",
       "43734  jlxf819993117         30           4.8       26.902328   \n",
       "43735  aevx342135787         21           4.6        0.000000   \n",
       "43736  xnek760674819         30           4.9       13.022394   \n",
       "43737  cynl434665991         20           4.7       11.001753   \n",
       "43738  nsyz997960170         23           4.9       23.351058   \n",
       "\n",
       "       Store_Longitude  Drop_Latitude  Drop_Longitude  Order_Date Order_Time  \\\n",
       "0            75.892471      22.765049       75.912471  2022-03-19   11:30:00   \n",
       "1            77.683237      13.043041       77.813237  2022-03-25   19:45:00   \n",
       "2            77.678400      12.924264       77.688400  2022-03-19   08:30:00   \n",
       "3            76.976494      11.053669       77.026494  2022-04-05   18:00:00   \n",
       "4            80.249982      13.012793       80.289982  2022-03-26   13:30:00   \n",
       "...                ...            ...             ...         ...        ...   \n",
       "43734        75.794257      26.912328       75.804257  2022-03-24   11:35:00   \n",
       "43735         0.000000       0.070000        0.070000  2022-02-16   19:55:00   \n",
       "43736        80.242439      13.052394       80.272439  2022-03-11   23:50:00   \n",
       "43737        76.986241      11.041753       77.026241  2022-03-07   13:35:00   \n",
       "43738        85.325731      23.431058       85.405731  2022-03-02   17:10:00   \n",
       "\n",
       "      Pickup_Time     Weather  Traffic      Vehicle            Area  \\\n",
       "0        11:45:00       Sunny    High   motorcycle           Urban    \n",
       "1        19:50:00      Stormy     Jam      scooter   Metropolitian    \n",
       "2        08:45:00  Sandstorms     Low   motorcycle           Urban    \n",
       "3        18:10:00       Sunny  Medium   motorcycle   Metropolitian    \n",
       "4        13:45:00      Cloudy    High      scooter   Metropolitian    \n",
       "...           ...         ...      ...          ...             ...   \n",
       "43734    11:45:00       Windy    High   motorcycle   Metropolitian    \n",
       "43735    20:10:00       Windy     Jam   motorcycle   Metropolitian    \n",
       "43736    00:05:00      Cloudy     Low      scooter   Metropolitian    \n",
       "43737    13:40:00      Cloudy    High   motorcycle   Metropolitian    \n",
       "43738    17:15:00         Fog  Medium      scooter   Metropolitian    \n",
       "\n",
       "       Delivery_Time     Category  \n",
       "0                120     Clothing  \n",
       "1                165  Electronics  \n",
       "2                130       Sports  \n",
       "3                105    Cosmetics  \n",
       "4                150         Toys  \n",
       "...              ...          ...  \n",
       "43734            160         Home  \n",
       "43735            180      Jewelry  \n",
       "43736             80         Home  \n",
       "43737            130      Kitchen  \n",
       "43738            180    Cosmetics  \n",
       "\n",
       "[43739 rows x 16 columns]>"
      ]
     },
     "execution_count": 15,
     "metadata": {},
     "output_type": "execute_result"
    }
   ],
   "execution_count": 15
  },
  {
   "metadata": {
    "ExecuteTime": {
     "end_time": "2025-10-05T07:08:03.324591Z",
     "start_time": "2025-10-05T07:08:03.317985Z"
    }
   },
   "cell_type": "code",
   "source": "print(data.columns)",
   "id": "f668c28cd6588870",
   "outputs": [
    {
     "name": "stdout",
     "output_type": "stream",
     "text": [
      "Index(['Order_ID', 'Agent_Age', 'Agent_Rating', 'Store_Latitude',\n",
      "       'Store_Longitude', 'Drop_Latitude', 'Drop_Longitude', 'Order_Date',\n",
      "       'Order_Time', 'Pickup_Time', 'Weather', 'Traffic', 'Vehicle', 'Area',\n",
      "       'Delivery_Time', 'Category'],\n",
      "      dtype='object')\n"
     ]
    }
   ],
   "execution_count": 16
  },
  {
   "metadata": {
    "ExecuteTime": {
     "end_time": "2025-10-05T07:08:03.365153Z",
     "start_time": "2025-10-05T07:08:03.345144Z"
    }
   },
   "cell_type": "code",
   "source": "print(data.isnull().sum())",
   "id": "5731891cae24fd48",
   "outputs": [
    {
     "name": "stdout",
     "output_type": "stream",
     "text": [
      "Order_ID            0\n",
      "Agent_Age           0\n",
      "Agent_Rating       54\n",
      "Store_Latitude      0\n",
      "Store_Longitude     0\n",
      "Drop_Latitude       0\n",
      "Drop_Longitude      0\n",
      "Order_Date          0\n",
      "Order_Time          0\n",
      "Pickup_Time         0\n",
      "Weather            91\n",
      "Traffic             0\n",
      "Vehicle             0\n",
      "Area                0\n",
      "Delivery_Time       0\n",
      "Category            0\n",
      "dtype: int64\n"
     ]
    }
   ],
   "execution_count": 17
  },
  {
   "metadata": {
    "ExecuteTime": {
     "end_time": "2025-10-05T07:08:03.425934Z",
     "start_time": "2025-10-05T07:08:03.383787Z"
    }
   },
   "cell_type": "code",
   "source": "print(data.duplicated().sum())\n",
   "id": "4160776a6278d566",
   "outputs": [
    {
     "name": "stdout",
     "output_type": "stream",
     "text": [
      "0\n"
     ]
    }
   ],
   "execution_count": 18
  },
  {
   "metadata": {
    "ExecuteTime": {
     "end_time": "2025-10-05T07:08:03.465057Z",
     "start_time": "2025-10-05T07:08:03.444291Z"
    }
   },
   "cell_type": "code",
   "source": "data = data.dropna()",
   "id": "e812afd8b02e02ec",
   "outputs": [],
   "execution_count": 19
  },
  {
   "metadata": {
    "ExecuteTime": {
     "end_time": "2025-10-05T07:08:03.497718Z",
     "start_time": "2025-10-05T07:08:03.480981Z"
    }
   },
   "cell_type": "code",
   "source": "print(data.isnull().sum())",
   "id": "1f9e37aec1ff6901",
   "outputs": [
    {
     "name": "stdout",
     "output_type": "stream",
     "text": [
      "Order_ID           0\n",
      "Agent_Age          0\n",
      "Agent_Rating       0\n",
      "Store_Latitude     0\n",
      "Store_Longitude    0\n",
      "Drop_Latitude      0\n",
      "Drop_Longitude     0\n",
      "Order_Date         0\n",
      "Order_Time         0\n",
      "Pickup_Time        0\n",
      "Weather            0\n",
      "Traffic            0\n",
      "Vehicle            0\n",
      "Area               0\n",
      "Delivery_Time      0\n",
      "Category           0\n",
      "dtype: int64\n"
     ]
    }
   ],
   "execution_count": 20
  },
  {
   "metadata": {
    "ExecuteTime": {
     "end_time": "2025-10-05T07:11:58.848688Z",
     "start_time": "2025-10-05T07:11:31.511185Z"
    }
   },
   "cell_type": "code",
   "source": [
    "#Distribution of Delivery Time for Amazon Orders\n",
    "import pandas as pd\n",
    "import matplotlib.pyplot as plt\n",
    "import seaborn as sns\n",
    "\n",
    "df = pd.read_csv('amazon_delivery.csv')\n",
    "\n",
    "# Basic statistics\n",
    "print(df.describe())\n",
    "\n",
    "# Distribution of Delivery Time\n",
    "plt.figure(figsize=(7, 4))\n",
    "sns.histplot(df['Delivery_Time'], kde=True)\n",
    "plt.title('Distribution of Delivery Time')\n",
    "plt.xlabel('Delivery Time')\n",
    "plt.show()\n"
   ],
   "id": "13573fcaf132daa1",
   "outputs": [
    {
     "name": "stdout",
     "output_type": "stream",
     "text": [
      "          Agent_Age  Agent_Rating  Store_Latitude  Store_Longitude  \\\n",
      "count  43739.000000  43685.000000    43739.000000     43739.000000   \n",
      "mean      29.567137      4.633780       17.210960        70.661177   \n",
      "std        5.815155      0.334716        7.764225        21.475005   \n",
      "min       15.000000      1.000000      -30.902872       -88.366217   \n",
      "25%       25.000000      4.500000       12.933298        73.170283   \n",
      "50%       30.000000      4.700000       18.551440        75.898497   \n",
      "75%       35.000000      4.900000       22.732225        78.045359   \n",
      "max       50.000000      6.000000       30.914057        88.433452   \n",
      "\n",
      "       Drop_Latitude  Drop_Longitude  Delivery_Time  \n",
      "count   43739.000000    43739.000000   43739.000000  \n",
      "mean       17.459031       70.821842     124.905645  \n",
      "std         7.342950       21.153148      51.915451  \n",
      "min         0.010000        0.010000      10.000000  \n",
      "25%        12.985996       73.280000      90.000000  \n",
      "50%        18.633626       76.002574     125.000000  \n",
      "75%        22.785049       78.104095     160.000000  \n",
      "max        31.054057       88.563452     270.000000  \n"
     ]
    },
    {
     "data": {
      "text/plain": [
       "<Figure size 700x400 with 1 Axes>"
      ],
      "image/png": "[encoded data removed]"
     },
     "metadata": {},
     "output_type": "display_data"
    }
   ],
   "execution_count": 24
  },
  {
   "metadata": {
    "ExecuteTime": {
     "end_time": "2025-10-05T07:13:32.197574Z",
     "start_time": "2025-10-05T07:13:31.926591Z"
    }
   },
   "cell_type": "code",
   "source": [
    "#Feature Correlation Analysis for Delivery Time Prediction\n",
    "import seaborn as sns\n",
    "import matplotlib.pyplot as plt\n",
    "\n",
    "# Select only numeric columns for correlation\n",
    "numeric_df = df.select_dtypes(include='number')\n",
    "\n",
    "plt.figure(figsize=(8,6))\n",
    "sns.heatmap(numeric_df.corr(), annot=True, cmap='coolwarm')\n",
    "plt.title('Correlation Heatmap')\n",
    "plt.show()\n"
   ],
   "id": "eb494d9aafd47809",
   "outputs": [
    {
     "data": {
      "text/plain": [
       "<Figure size 800x600 with 2 Axes>"
      ],
      "image/png": "[encoded data removed]"
     },
     "metadata": {},
     "output_type": "display_data"
    }
   ],
   "execution_count": 26
  },
  {
   "metadata": {
    "ExecuteTime": {
     "end_time": "2025-10-05T07:14:54.381775Z",
     "start_time": "2025-10-05T07:14:46.094878Z"
    }
   },
   "cell_type": "code",
   "source": [
    "from geopy.distance import geodesic\n",
    "\n",
    "def calc_distance(row):\n",
    "    store_coords = (row['Store_Latitude'], row['Store_Longitude'])\n",
    "    drop_coords = (row['Drop_Latitude'], row['Drop_Longitude'])\n",
    "    return geodesic(store_coords, drop_coords).km\n",
    "\n",
    "df['Distance_KM'] = df.apply(calc_distance, axis=1)\n",
    "print(df[['Store_Latitude', 'Store_Longitude', 'Drop_Latitude', 'Drop_Longitude', 'Distance_KM']].head())\n"
   ],
   "id": "cf397944acd310d0",
   "outputs": [
    {
     "name": "stdout",
     "output_type": "stream",
     "text": [
      "   Store_Latitude  Store_Longitude  Drop_Latitude  Drop_Longitude  Distance_KM\n",
      "0       22.745049        75.892471      22.765049       75.912471     3.020737\n",
      "1       12.913041        77.683237      13.043041       77.813237    20.143737\n",
      "2       12.914264        77.678400      12.924264       77.688400     1.549693\n",
      "3       11.003669        76.976494      11.053669       77.026494     7.774497\n",
      "4       12.972793        80.249982      13.012793       80.289982     6.197898\n"
     ]
    }
   ],
   "execution_count": 28
  },
  {
   "metadata": {
    "ExecuteTime": {
     "end_time": "2025-10-05T07:16:04.874496Z",
     "start_time": "2025-10-05T07:16:04.534071Z"
    }
   },
   "cell_type": "code",
   "source": [
    "import pandas as pd\n",
    "\n",
    "# If 'Order_Time' and 'Pickup_Time' columns contain NaN or messy entries, do this:\n",
    "df['Order_Time'] = pd.to_datetime(df['Order_Time'], errors='coerce', format='%H:%M:%S')\n",
    "df['Pickup_Time'] = pd.to_datetime(df['Pickup_Time'], errors='coerce', format='%H:%M:%S')\n",
    "\n",
    "# Now extract hours, filling NaN with -1 or an appropriate placeholder if you need\n",
    "df['Order_Hour'] = df['Order_Time'].dt.hour.fillna(-1)\n",
    "df['Pickup_Hour'] = df['Pickup_Time'].dt.hour.fillna(-1)\n",
    "print(df[['Order_Hour', 'Pickup_Hour']].head())\n"
   ],
   "id": "8e20597de6eea4d5",
   "outputs": [
    {
     "name": "stdout",
     "output_type": "stream",
     "text": [
      "   Order_Hour  Pickup_Hour\n",
      "0        11.0           11\n",
      "1        19.0           19\n",
      "2         8.0            8\n",
      "3        18.0           18\n",
      "4        13.0           13\n"
     ]
    }
   ],
   "execution_count": 30
  },
  {
   "metadata": {
    "ExecuteTime": {
     "end_time": "2025-10-05T07:18:06.687184Z",
     "start_time": "2025-10-05T07:18:06.643571Z"
    }
   },
   "cell_type": "code",
   "source": [
    "# Encode categorical variables first\n",
    "df_encoded = pd.get_dummies(df, columns=['Weather', 'Traffic', 'Vehicle', 'Area', 'Category'], drop_first=True)\n",
    "print(df_encoded.columns)  # Check columns after encoding\n",
    "\n"
   ],
   "id": "432bb9783b243733",
   "outputs": [
    {
     "name": "stdout",
     "output_type": "stream",
     "text": [
      "Index(['Order_ID', 'Agent_Age', 'Agent_Rating', 'Store_Latitude',\n",
      "       'Store_Longitude', 'Drop_Latitude', 'Drop_Longitude', 'Order_Date',\n",
      "       'Order_Time', 'Pickup_Time', 'Delivery_Time', 'Distance_KM',\n",
      "       'Order_Hour', 'Pickup_Hour', 'Weather_Fog', 'Weather_Sandstorms',\n",
      "       'Weather_Stormy', 'Weather_Sunny', 'Weather_Windy', 'Traffic_Jam ',\n",
      "       'Traffic_Low ', 'Traffic_Medium ', 'Traffic_NaN ',\n",
      "       'Vehicle_motorcycle ', 'Vehicle_scooter ', 'Vehicle_van', 'Area_Other',\n",
      "       'Area_Semi-Urban ', 'Area_Urban ', 'Category_Books',\n",
      "       'Category_Clothing', 'Category_Cosmetics', 'Category_Electronics',\n",
      "       'Category_Grocery', 'Category_Home', 'Category_Jewelry',\n",
      "       'Category_Kitchen', 'Category_Outdoors', 'Category_Pet Supplies',\n",
      "       'Category_Shoes', 'Category_Skincare', 'Category_Snacks',\n",
      "       'Category_Sports', 'Category_Toys'],\n",
      "      dtype='object')\n"
     ]
    }
   ],
   "execution_count": 33
  },
  {
   "metadata": {
    "ExecuteTime": {
     "end_time": "2025-10-05T07:18:13.987141Z",
     "start_time": "2025-10-05T07:18:13.947611Z"
    }
   },
   "cell_type": "code",
   "source": [
    "from sklearn.model_selection import train_test_split\n",
    "\n",
    "# Define features and target\n",
    "X = df_encoded.drop(['Order_ID', 'Delivery_Time'], axis=1)  # Adjust based on your encoding step\n",
    "y = df_encoded['Delivery_Time']\n",
    "\n",
    "# Split into train and test sets\n",
    "X_train, X_test, y_train, y_test = train_test_split(X, y, test_size=0.2, random_state=42)\n",
    "\n",
    "print(f\"Training samples: {X_train.shape[0]}, Testing samples: {X_test.shape[0]}\")\n"
   ],
   "id": "f1e3e9d15c43e0d1",
   "outputs": [
    {
     "name": "stdout",
     "output_type": "stream",
     "text": [
      "Training samples: 34991, Testing samples: 8748\n"
     ]
    }
   ],
   "execution_count": 34
  },
  {
   "metadata": {
    "ExecuteTime": {
     "end_time": "2025-10-05T07:26:20.453024Z",
     "start_time": "2025-10-05T07:26:20.441260Z"
    }
   },
   "cell_type": "code",
   "source": "print(X.dtypes)\n",
   "id": "16ebb7d93a0a1f46",
   "outputs": [
    {
     "name": "stdout",
     "output_type": "stream",
     "text": [
      "Agent_Age                  int64\n",
      "Agent_Rating             float64\n",
      "Store_Latitude           float64\n",
      "Store_Longitude          float64\n",
      "Drop_Latitude            float64\n",
      "Drop_Longitude           float64\n",
      "Distance_KM              float64\n",
      "Order_Hour               float64\n",
      "Pickup_Hour                int32\n",
      "Weather_Fog                 bool\n",
      "Weather_Sandstorms          bool\n",
      "Weather_Stormy              bool\n",
      "Weather_Sunny               bool\n",
      "Weather_Windy               bool\n",
      "Traffic_Jam                 bool\n",
      "Traffic_Low                 bool\n",
      "Traffic_Medium              bool\n",
      "Traffic_NaN                 bool\n",
      "Vehicle_motorcycle          bool\n",
      "Vehicle_scooter             bool\n",
      "Vehicle_van                 bool\n",
      "Area_Other                  bool\n",
      "Area_Semi-Urban             bool\n",
      "Area_Urban                  bool\n",
      "Category_Books              bool\n",
      "Category_Clothing           bool\n",
      "Category_Cosmetics          bool\n",
      "Category_Electronics        bool\n",
      "Category_Grocery            bool\n",
      "Category_Home               bool\n",
      "Category_Jewelry            bool\n",
      "Category_Kitchen            bool\n",
      "Category_Outdoors           bool\n",
      "Category_Pet Supplies       bool\n",
      "Category_Shoes              bool\n",
      "Category_Skincare           bool\n",
      "Category_Snacks             bool\n",
      "Category_Sports             bool\n",
      "Category_Toys               bool\n",
      "dtype: object\n"
     ]
    }
   ],
   "execution_count": 39
  },
  {
   "metadata": {
    "ExecuteTime": {
     "end_time": "2025-10-05T07:27:11.158761Z",
     "start_time": "2025-10-05T07:27:10.801897Z"
    }
   },
   "cell_type": "code",
   "source": "print(X_train.applymap(type).drop_duplicates().T)\n",
   "id": "12ddbe0189add595",
   "outputs": [
    {
     "name": "stderr",
     "output_type": "stream",
     "text": [
      "/var/folders/x_/53m22g590190k68hk89dq3tc0000gn/T/ipykernel_44139/8530485.py:1: FutureWarning: DataFrame.applymap has been deprecated. Use DataFrame.map instead.\n",
      "  print(X_train.applymap(type).drop_duplicates().T)\n"
     ]
    },
    {
     "name": "stdout",
     "output_type": "stream",
     "text": [
      "                                                                   39398  \\\n",
      "Agent_Age                                                  <class 'int'>   \n",
      "Agent_Rating                                             <class 'float'>   \n",
      "Store_Latitude                                           <class 'float'>   \n",
      "Store_Longitude                                          <class 'float'>   \n",
      "Drop_Latitude                                            <class 'float'>   \n",
      "Drop_Longitude                                           <class 'float'>   \n",
      "Order_Date                                                 <class 'str'>   \n",
      "Order_Time             <class 'pandas._libs.tslibs.timestamps.Timesta...   \n",
      "Pickup_Time            <class 'pandas._libs.tslibs.timestamps.Timesta...   \n",
      "Distance_KM                                              <class 'float'>   \n",
      "Order_Hour                                               <class 'float'>   \n",
      "Pickup_Hour                                                <class 'int'>   \n",
      "Weather_Fog                                               <class 'bool'>   \n",
      "Weather_Sandstorms                                        <class 'bool'>   \n",
      "Weather_Stormy                                            <class 'bool'>   \n",
      "Weather_Sunny                                             <class 'bool'>   \n",
      "Weather_Windy                                             <class 'bool'>   \n",
      "Traffic_Jam                                               <class 'bool'>   \n",
      "Traffic_Low                                               <class 'bool'>   \n",
      "Traffic_Medium                                            <class 'bool'>   \n",
      "Traffic_NaN                                               <class 'bool'>   \n",
      "Vehicle_motorcycle                                        <class 'bool'>   \n",
      "Vehicle_scooter                                           <class 'bool'>   \n",
      "Vehicle_van                                               <class 'bool'>   \n",
      "Area_Other                                                <class 'bool'>   \n",
      "Area_Semi-Urban                                           <class 'bool'>   \n",
      "Area_Urban                                                <class 'bool'>   \n",
      "Category_Books                                            <class 'bool'>   \n",
      "Category_Clothing                                         <class 'bool'>   \n",
      "Category_Cosmetics                                        <class 'bool'>   \n",
      "Category_Electronics                                      <class 'bool'>   \n",
      "Category_Grocery                                          <class 'bool'>   \n",
      "Category_Home                                             <class 'bool'>   \n",
      "Category_Jewelry                                          <class 'bool'>   \n",
      "Category_Kitchen                                          <class 'bool'>   \n",
      "Category_Outdoors                                         <class 'bool'>   \n",
      "Category_Pet Supplies                                     <class 'bool'>   \n",
      "Category_Shoes                                            <class 'bool'>   \n",
      "Category_Skincare                                         <class 'bool'>   \n",
      "Category_Snacks                                           <class 'bool'>   \n",
      "Category_Sports                                           <class 'bool'>   \n",
      "Category_Toys                                             <class 'bool'>   \n",
      "\n",
      "                                                                   42598  \n",
      "Agent_Age                                                  <class 'int'>  \n",
      "Agent_Rating                                             <class 'float'>  \n",
      "Store_Latitude                                           <class 'float'>  \n",
      "Store_Longitude                                          <class 'float'>  \n",
      "Drop_Latitude                                            <class 'float'>  \n",
      "Drop_Longitude                                           <class 'float'>  \n",
      "Order_Date                                                 <class 'str'>  \n",
      "Order_Time                 <class 'pandas._libs.tslibs.nattype.NaTType'>  \n",
      "Pickup_Time            <class 'pandas._libs.tslibs.timestamps.Timesta...  \n",
      "Distance_KM                                              <class 'float'>  \n",
      "Order_Hour                                               <class 'float'>  \n",
      "Pickup_Hour                                                <class 'int'>  \n",
      "Weather_Fog                                               <class 'bool'>  \n",
      "Weather_Sandstorms                                        <class 'bool'>  \n",
      "Weather_Stormy                                            <class 'bool'>  \n",
      "Weather_Sunny                                             <class 'bool'>  \n",
      "Weather_Windy                                             <class 'bool'>  \n",
      "Traffic_Jam                                               <class 'bool'>  \n",
      "Traffic_Low                                               <class 'bool'>  \n",
      "Traffic_Medium                                            <class 'bool'>  \n",
      "Traffic_NaN                                               <class 'bool'>  \n",
      "Vehicle_motorcycle                                        <class 'bool'>  \n",
      "Vehicle_scooter                                           <class 'bool'>  \n",
      "Vehicle_van                                               <class 'bool'>  \n",
      "Area_Other                                                <class 'bool'>  \n",
      "Area_Semi-Urban                                           <class 'bool'>  \n",
      "Area_Urban                                                <class 'bool'>  \n",
      "Category_Books                                            <class 'bool'>  \n",
      "Category_Clothing                                         <class 'bool'>  \n",
      "Category_Cosmetics                                        <class 'bool'>  \n",
      "Category_Electronics                                      <class 'bool'>  \n",
      "Category_Grocery                                          <class 'bool'>  \n",
      "Category_Home                                             <class 'bool'>  \n",
      "Category_Jewelry                                          <class 'bool'>  \n",
      "Category_Kitchen                                          <class 'bool'>  \n",
      "Category_Outdoors                                         <class 'bool'>  \n",
      "Category_Pet Supplies                                     <class 'bool'>  \n",
      "Category_Shoes                                            <class 'bool'>  \n",
      "Category_Skincare                                         <class 'bool'>  \n",
      "Category_Snacks                                           <class 'bool'>  \n",
      "Category_Sports                                           <class 'bool'>  \n",
      "Category_Toys                                             <class 'bool'>  \n"
     ]
    }
   ],
   "execution_count": 41
  },
  {
   "metadata": {
    "ExecuteTime": {
     "end_time": "2025-10-05T07:33:04.720589Z",
     "start_time": "2025-10-05T07:32:08.999481Z"
    }
   },
   "cell_type": "code",
   "source": [
    "import numpy as np\n",
    "import mlflow\n",
    "import mlflow.sklearn\n",
    "from sklearn.linear_model import LinearRegression\n",
    "from sklearn.ensemble import RandomForestRegressor, GradientBoostingRegressor\n",
    "from sklearn.metrics import mean_squared_error, mean_absolute_error, r2_score\n",
    "from sklearn.impute import SimpleImputer\n",
    "\n",
    "# Impute missing features using mean strategy\n",
    "imputer = SimpleImputer(strategy='mean')\n",
    "X_train_imputed = imputer.fit_transform(X_train)\n",
    "X_test_imputed = imputer.transform(X_test)\n",
    "\n",
    "# Define models\n",
    "models = {\n",
    "    \"LinearRegression\": LinearRegression(),\n",
    "    \"RandomForest\": RandomForestRegressor(random_state=42),\n",
    "    \"GradientBoosting\": GradientBoostingRegressor(random_state=42)\n",
    "}\n",
    "\n",
    "# Train, evaluate, and log each model\n",
    "for model_name, model in models.items():\n",
    "    with mlflow.start_run(run_name=model_name):\n",
    "        model.fit(X_train_imputed, y_train)\n",
    "        y_pred = model.predict(X_test_imputed)\n",
    "\n",
    "        mse = mean_squared_error(y_test, y_pred)\n",
    "        rmse = np.sqrt(mse)\n",
    "        mae = mean_absolute_error(y_test, y_pred)\n",
    "        r2 = r2_score(y_test, y_pred)\n",
    "\n",
    "        print(f\"{model_name} - RMSE: {rmse:.2f}, MAE: {mae:.2f}, R2: {r2:.2f}\")\n",
    "\n",
    "        mlflow.sklearn.log_model(model, artifact_path=model_name)\n",
    "        mlflow.log_metric(\"rmse\", rmse)\n",
    "        mlflow.log_metric(\"mae\", mae)\n",
    "        mlflow.log_metric(\"r2\", r2)\n"
   ],
   "id": "c46a5ad777e01fa6",
   "outputs": [
    {
     "name": "stderr",
     "output_type": "stream",
     "text": [
      "2025/10/05 11:32:09 WARNING mlflow.models.model: `artifact_path` is deprecated. Please use `name` instead.\n"
     ]
    },
    {
     "name": "stdout",
     "output_type": "stream",
     "text": [
      "LinearRegression - RMSE: 33.16, MAE: 26.10, R2: 0.59\n"
     ]
    },
    {
     "name": "stderr",
     "output_type": "stream",
     "text": [
      "\u001B[31m2025/10/05 11:32:16 WARNING mlflow.models.model: Model logged without a signature and input example. Please set `input_example` parameter when logging the model to auto infer the model signature.\u001B[0m\n",
      "2025/10/05 11:32:51 WARNING mlflow.models.model: `artifact_path` is deprecated. Please use `name` instead.\n"
     ]
    },
    {
     "name": "stdout",
     "output_type": "stream",
     "text": [
      "RandomForest - RMSE: 22.71, MAE: 17.45, R2: 0.81\n"
     ]
    },
    {
     "name": "stderr",
     "output_type": "stream",
     "text": [
      "\u001B[31m2025/10/05 11:32:54 WARNING mlflow.models.model: Model logged without a signature and input example. Please set `input_example` parameter when logging the model to auto infer the model signature.\u001B[0m\n",
      "2025/10/05 11:33:02 WARNING mlflow.models.model: `artifact_path` is deprecated. Please use `name` instead.\n"
     ]
    },
    {
     "name": "stdout",
     "output_type": "stream",
     "text": [
      "GradientBoosting - RMSE: 24.94, MAE: 19.54, R2: 0.77\n"
     ]
    },
    {
     "name": "stderr",
     "output_type": "stream",
     "text": [
      "\u001B[31m2025/10/05 11:33:04 WARNING mlflow.models.model: Model logged without a signature and input example. Please set `input_example` parameter when logging the model to auto infer the model signature.\u001B[0m\n"
     ]
    }
   ],
   "execution_count": 45
  },
  {
   "metadata": {
    "ExecuteTime": {
     "end_time": "2025-10-05T07:38:17.164154Z",
     "start_time": "2025-10-05T07:38:16.995691Z"
    }
   },
   "cell_type": "code",
   "source": [
    "import matplotlib.pyplot as plt\n",
    "import numpy as np\n",
    "\n",
    "# Example data (replace with your actual values)\n",
    "model_names = ['LinearRegression', 'RandomForest', 'GradientBoosting']\n",
    "rmses = [33.16, 22.71, 24.94]\n",
    "maes = [26.10, 17.45, 19.54]\n",
    "r2s = [0.59, 0.81, 0.77]\n",
    "\n",
    "x = np.arange(len(model_names))\n",
    "width = 0.25\n",
    "\n",
    "fig, ax = plt.subplots(figsize=(10, 6))\n",
    "rects1 = ax.bar(x - width, rmses, width, label='RMSE')\n",
    "rects2 = ax.bar(x, maes, width, label='MAE')\n",
    "rects3 = ax.bar(x + width, r2s, width, label='R-squared')\n",
    "\n",
    "ax.set_xlabel('Model')\n",
    "ax.set_title('Model Performance Comparison')\n",
    "ax.set_xticks(x)\n",
    "ax.set_xticklabels(model_names)\n",
    "ax.legend()\n",
    "\n",
    "def autolabel(rects):\n",
    "    for rect in rects:\n",
    "        height = rect.get_height()\n",
    "        ax.annotate(f'{height:.2f}',\n",
    "                    xy=(rect.get_x() + rect.get_width() / 2, height),\n",
    "                    xytext=(0, 3),\n",
    "                    textcoords=\"offset points\",\n",
    "                    ha='center', va='bottom')\n",
    "\n",
    "autolabel(rects1)\n",
    "autolabel(rects2)\n",
    "autolabel(rects3)\n",
    "\n",
    "plt.show()\n"
   ],
   "id": "5261e1c196adcd60",
   "outputs": [
    {
     "data": {
      "text/plain": [
       "<Figure size 1000x600 with 1 Axes>"
      ],
      "image/png": "[encoded data removed]"
     },
     "metadata": {},
     "output_type": "display_data"
    }
   ],
   "execution_count": 47
  },
  {
   "metadata": {
    "ExecuteTime": {
     "end_time": "2025-10-05T07:43:48.943289Z",
     "start_time": "2025-10-05T07:43:48.655100Z"
    }
   },
   "cell_type": "code",
   "source": [
    "import pickle\n",
    "\n",
    "best_model_name = \"RandomForest\"\n",
    "best_model = models[best_model_name]\n",
    "\n",
    "# Save the best model to a file\n",
    "with open('random_forest_model.pkl', 'wb') as f:\n",
    "    pickle.dump(best_model, f)\n"
   ],
   "id": "78d8b528a5bbcbb3",
   "outputs": [],
   "execution_count": 49
  },
  {
   "metadata": {
    "ExecuteTime": {
     "end_time": "2025-10-05T07:47:26.168664Z",
     "start_time": "2025-10-05T07:47:26.160702Z"
    }
   },
   "cell_type": "code",
   "source": [
    "import pickle\n",
    "\n",
    "feature_columns = list(X_train.columns)\n",
    "with open('feature_columns.pkl', 'wb') as f:\n",
    "    pickle.dump(feature_columns, f)\n"
   ],
   "id": "5efb4b7dc2c6c219",
   "outputs": [],
   "execution_count": 50
  },
  {
   "metadata": {},
   "cell_type": "markdown",
   "source": "# **Conclusion**",
   "id": "b5344e473283f89e"
  },
  {
   "metadata": {},
   "cell_type": "markdown",
   "source": [
    "Through this project, I learned the importance of comprehensive data preprocessing, including handling missing values and proper categorical encoding, to ensure machine learning models receive clean and consistent input. Working with multiple regression models taught me how to evaluate performance using different metrics and select the best model for the problem. Integrating MLflow deepened my understanding of experiment tracking and model management, a crucial step for reproducibility and efficient development.\n",
    "\n",
    "Building and deploying a Streamlit application helped me gain practical experience in creating user-friendly interfaces that connect real-world inputs to predictive models, highlighting the challenges of maintaining feature consistency between training and inference. Overall, this project reinforced key machine learning principles, end-to-end workflow skills, and deployment considerations essential for delivering impactful, scalable ML solutions."
   ],
   "id": "7218705b1a98b990"
  }
 ],
 "metadata": {
  "kernelspec": {
   "display_name": "Python 3",
   "language": "python",
   "name": "python3"
  },
  "language_info": {
   "codemirror_mode": {
    "name": "ipython",
    "version": 2
   },
   "file_extension": ".py",
   "mimetype": "text/x-python",
   "name": "python",
   "nbconvert_exporter": "python",
   "pygments_lexer": "ipython2",
   "version": "2.7.6"
  }
 },
 "nbformat": 4,
 "nbformat_minor": 5
}
